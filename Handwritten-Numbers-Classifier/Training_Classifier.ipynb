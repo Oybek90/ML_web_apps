{
 "cells": [
  {
   "cell_type": "code",
   "execution_count": 21,
   "id": "3427b850",
   "metadata": {},
   "outputs": [],
   "source": [
    "import tensorflow as tf\n",
    "from tensorflow.keras.datasets import mnist\n",
    "from tensorflow.keras.models import Sequential\n",
    "from tensorflow.keras.layers import Conv2D, MaxPooling2D, Flatten, Dense\n",
    "import matplotlib.pyplot as plt"
   ]
  },
  {
   "cell_type": "code",
   "execution_count": 22,
   "id": "0042e591",
   "metadata": {},
   "outputs": [
    {
     "name": "stdout",
     "output_type": "stream",
     "text": [
      "Model: \"sequential_1\"\n",
      "_________________________________________________________________\n",
      " Layer (type)                Output Shape              Param #   \n",
      "=================================================================\n",
      " conv2d_2 (Conv2D)           (None, 26, 26, 32)        320       \n",
      "                                                                 \n",
      " conv2d_3 (Conv2D)           (None, 24, 24, 64)        18496     \n",
      "                                                                 \n",
      " max_pooling2d_1 (MaxPooling  (None, 12, 12, 64)       0         \n",
      " 2D)                                                             \n",
      "                                                                 \n",
      " flatten_1 (Flatten)         (None, 9216)              0         \n",
      "                                                                 \n",
      " dense_2 (Dense)             (None, 320)               2949440   \n",
      "                                                                 \n",
      " dense_3 (Dense)             (None, 50)                16050     \n",
      "                                                                 \n",
      " dense_4 (Dense)             (None, 10)                510       \n",
      "                                                                 \n",
      "=================================================================\n",
      "Total params: 2,984,816\n",
      "Trainable params: 2,984,816\n",
      "Non-trainable params: 0\n",
      "_________________________________________________________________\n"
     ]
    }
   ],
   "source": [
    "# Load the MNIST dataset and split into training and testing sets\n",
    "(x_train, y_train), (x_test, y_test) = mnist.load_data()\n",
    "\n",
    "# Normalize pixel values to be between 0 and 1\n",
    "x_train, x_test = x_train / 255.0, x_test / 255.0\n",
    "\n",
    "# Reshape the data to be compatible with CNN input (add channel dimension)\n",
    "x_train = x_train.reshape(x_train.shape[0], 28, 28, 1)\n",
    "x_test = x_test.reshape(x_test.shape[0], 28, 28, 1)\n",
    "\n",
    "# Define the CNN architecture\n",
    "model = Sequential([\n",
    "    Conv2D(32, kernel_size=(3, 3), activation='relu', input_shape=(28, 28, 1)),\n",
    "    Conv2D(64, kernel_size=(3, 3), activation='relu'),\n",
    "    MaxPooling2D(pool_size=(2, 2)),\n",
    "    Flatten(),\n",
    "    Dense(320, activation='relu'),\n",
    "    Dense(50, activation='relu'),\n",
    "    Dense(10, activation='softmax')\n",
    "])\n",
    "\n",
    "# Compile the model\n",
    "model.compile(optimizer='adam',\n",
    "              loss='sparse_categorical_crossentropy',\n",
    "              metrics=['accuracy'])\n",
    "model.summary()"
   ]
  },
  {
   "cell_type": "code",
   "execution_count": 23,
   "id": "8aec2c90",
   "metadata": {},
   "outputs": [
    {
     "name": "stdout",
     "output_type": "stream",
     "text": [
      "Epoch 1/10\n",
      "1688/1688 [==============================] - 57s 34ms/step - loss: 0.1190 - accuracy: 0.9631 - val_loss: 0.0523 - val_accuracy: 0.9852\n",
      "Epoch 2/10\n",
      "1688/1688 [==============================] - 58s 34ms/step - loss: 0.0387 - accuracy: 0.9876 - val_loss: 0.0412 - val_accuracy: 0.9897\n",
      "Epoch 3/10\n",
      "1688/1688 [==============================] - 57s 34ms/step - loss: 0.0235 - accuracy: 0.9929 - val_loss: 0.0488 - val_accuracy: 0.9872\n",
      "Epoch 4/10\n",
      "1688/1688 [==============================] - 57s 34ms/step - loss: 0.0176 - accuracy: 0.9940 - val_loss: 0.0353 - val_accuracy: 0.9912\n",
      "Epoch 5/10\n",
      "1688/1688 [==============================] - 57s 34ms/step - loss: 0.0141 - accuracy: 0.9956 - val_loss: 0.0517 - val_accuracy: 0.9878\n",
      "Epoch 6/10\n",
      "1688/1688 [==============================] - 57s 34ms/step - loss: 0.0107 - accuracy: 0.9966 - val_loss: 0.0443 - val_accuracy: 0.9898\n",
      "Epoch 7/10\n",
      "1688/1688 [==============================] - 57s 34ms/step - loss: 0.0079 - accuracy: 0.9975 - val_loss: 0.0406 - val_accuracy: 0.9902\n",
      "Epoch 8/10\n",
      "1688/1688 [==============================] - 57s 34ms/step - loss: 0.0074 - accuracy: 0.9977 - val_loss: 0.0646 - val_accuracy: 0.9888\n",
      "Epoch 9/10\n",
      "1688/1688 [==============================] - 58s 34ms/step - loss: 0.0073 - accuracy: 0.9978 - val_loss: 0.0525 - val_accuracy: 0.9898\n",
      "Epoch 10/10\n",
      "1688/1688 [==============================] - 58s 34ms/step - loss: 0.0051 - accuracy: 0.9984 - val_loss: 0.0894 - val_accuracy: 0.9865\n"
     ]
    }
   ],
   "source": [
    "# Train the model\n",
    "history = model.fit(x_train, y_train, epochs=10, batch_size=32, validation_split=0.1)"
   ]
  },
  {
   "cell_type": "code",
   "execution_count": 24,
   "id": "610349b1",
   "metadata": {},
   "outputs": [
    {
     "data": {
      "image/png": "[encoded data removed]",
      "text/plain": [
       "<Figure size 640x480 with 1 Axes>"
      ]
     },
     "metadata": {},
     "output_type": "display_data"
    }
   ],
   "source": [
    "# Plot the training and validation accuracy over epochs\n",
    "plt.plot(history.history['accuracy'], label='Training Accuracy')\n",
    "plt.plot(history.history['val_accuracy'], label='Validation Accuracy')\n",
    "plt.xlabel('Epoch')\n",
    "plt.ylabel('Accuracy')\n",
    "plt.legend()\n",
    "plt.show()"
   ]
  },
  {
   "cell_type": "code",
   "execution_count": 25,
   "id": "9b894874",
   "metadata": {},
   "outputs": [
    {
     "name": "stdout",
     "output_type": "stream",
     "text": [
      "Test Accuracy: 0.9836000204086304\n"
     ]
    }
   ],
   "source": [
    "# Evaluate the model on the test set\n",
    "test_loss, test_accuracy = model.evaluate(x_test, y_test, verbose=0)\n",
    "print(\"Test Accuracy:\", test_accuracy)"
   ]
  },
  {
   "cell_type": "code",
   "execution_count": 26,
   "id": "dd626609",
   "metadata": {},
   "outputs": [],
   "source": [
    "# Save the trained model\n",
    "model.save(\"mnist_cnn_model.h5\")"
   ]
  },
  {
   "cell_type": "code",
   "execution_count": 27,
   "id": "f89b8aa1",
   "metadata": {},
   "outputs": [],
   "source": [
    "# Testing new image on the trained model\n",
    "\n",
    "import cv2\n",
    "\n",
    "# Load the trained model\n",
    "model = tf.keras.models.load_model(\"mnist_cnn_model.h5\")\n",
    "\n",
    "# Function to preprocess the test image\n",
    "def preprocess_image(image_path):\n",
    "    # Load the image using OpenCV\n",
    "    image = cv2.imread(image_path, cv2.IMREAD_GRAYSCALE)\n",
    "\n",
    "    # Resize the image to 28x28 (same size as MNIST digits)\n",
    "    image = cv2.resize(image, (28, 28))\n",
    "\n",
    "    # Normalize the pixel values to be between 0 and 1\n",
    "    image = image / 255.0\n",
    "\n",
    "    # Add a batch dimension to the image\n",
    "    image = image.reshape(1, 28, 28, 1)\n",
    "\n",
    "    return image"
   ]
  },
  {
   "cell_type": "code",
   "execution_count": 31,
   "id": "f962a246",
   "metadata": {},
   "outputs": [
    {
     "name": "stdout",
     "output_type": "stream",
     "text": [
      "1/1 [==============================] - 0s 12ms/step\n",
      "Predicted Label: 5\n"
     ]
    }
   ],
   "source": [
    "# Path to your test image (replace with the actual image path)\n",
    "test_image_path = \"five.jpg\"\n",
    "\n",
    "# Preprocess the test image\n",
    "preprocessed_image = preprocess_image(test_image_path)\n",
    "\n",
    "# Make predictions on the test image\n",
    "predictions = model.predict(preprocessed_image)\n",
    "\n",
    "# Get the predicted label (digit) from the model's output\n",
    "predicted_label = tf.argmax(predictions, axis=1)[0].numpy()\n",
    "\n",
    "print(\"Predicted Label:\", predicted_label)"
   ]
  },
  {
   "cell_type": "code",
   "execution_count": null,
   "id": "7e776786",
   "metadata": {},
   "outputs": [],
   "source": []
  }
 ],
 "metadata": {
  "kernelspec": {
   "display_name": "Python 3 (ipykernel)",
   "language": "python",
   "name": "python3"
  },
  "language_info": {
   "codemirror_mode": {
    "name": "ipython",
    "version": 3
   },
   "file_extension": ".py",
   "mimetype": "text/x-python",
   "name": "python",
   "nbconvert_exporter": "python",
   "pygments_lexer": "ipython3",
   "version": "3.11.3"
  }
 },
 "nbformat": 4,
 "nbformat_minor": 5
}
